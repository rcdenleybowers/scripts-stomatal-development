{
 "cells": [
  {
   "cell_type": "code",
   "execution_count": 5,
   "metadata": {
    "collapsed": true
   },
   "outputs": [],
   "source": [
    "%matplotlib inline\n",
    "from __future__ import division\n",
    "import numpy as np\n",
    "import pandas as pd\n",
    "import matplotlib as mpl\n",
    "import matplotlib.pyplot as plt\n",
    "import seaborn as sns\n",
    "import visualising_data_functions as vdf\n",
    "import random\n",
    "from sympy.solvers import solve\n",
    "from sympy import Symbol\n",
    "sns.set(style=\"whitegrid\", color_codes=True)\n",
    "sns.set_context('notebook')\n",
    "sns.set_palette(\"bone\")"
   ]
  },
  {
   "cell_type": "markdown",
   "metadata": {},
   "source": [
    "![](model system with k6.png)"
   ]
  },
  {
   "cell_type": "code",
   "execution_count": 8,
   "metadata": {
    "collapsed": false
   },
   "outputs": [],
   "source": [
    "##OPEN FILE\n",
    "\n",
    "filename = 'cell_population_counts_original.xlsx'\n",
    "\n",
    "dfAll = pd.read_excel(open(filename,'rb'), sheetname='AllData') #make df from spreadsheet\n",
    "dfAll = dfAll.fillna(0) #replace 'None' cells with 0"
   ]
  },
  {
   "cell_type": "code",
   "execution_count": 9,
   "metadata": {
    "collapsed": true
   },
   "outputs": [],
   "source": [
    "##DEFINE CONDITIONS\n",
    "positions = dfAll.position.unique()\n",
    "light_conditions = dfAll.light.unique()\n",
    "ages = dfAll.age.unique()\n",
    "cell_types = dfAll.cellType.unique() # ['PC' 'SLGC' 'MC' 'GMC' 'Stomata']\n",
    "condition_type = dfAll.leafCondition.unique()\n",
    "\n",
    "\n",
    "condition0 = (50, 'young','mid') \n",
    "condition1 = (50, 'medium', 'mid')\n",
    "condition2 = (50, 'mature', 'mid')\n",
    "\n",
    "conditions = (condition0, condition1, condition2)"
   ]
  },
  {
   "cell_type": "code",
   "execution_count": 10,
   "metadata": {
    "collapsed": true
   },
   "outputs": [],
   "source": [
    "i = 2\n",
    "cell_types_dict = {}\n",
    "for i in range(len(cell_types)):\n",
    "    condition_dict = {}\n",
    "    for j in conditions:\n",
    "        \n",
    "        cellTypeCount = vdf.cellTypeCountExtract(dfAll, j, cell_types, i)\n",
    "        totalCellCount = vdf.totalCellCount(dfAll, j, cell_types)\n",
    "        avg_cell_size = [1/x for x in totalCellCount]\n",
    "        avg_avg_cell_size = sum(avg_cell_size)/float(len(avg_cell_size))\n",
    "        proportion_cell_count = cellTypeCount/totalCellCount\n",
    "        avgCellTypeCount =  sum(cellTypeCount)/float(len(cellTypeCount))\n",
    "        avgTotalCellCount = sum(totalCellCount)/float(len(totalCellCount))\n",
    "        effective_cell_count = cellTypeCount * avg_cell_size\n",
    "        avg_effective_cell_count = avgCellTypeCount * avg_avg_cell_size\n",
    "        condition_dict[j] = [cellTypeCount, totalCellCount, avg_cell_size, avg_avg_cell_size, \n",
    "                             proportion_cell_count, avgCellTypeCount,avgTotalCellCount, \n",
    "                             effective_cell_count, avg_effective_cell_count ]\n",
    "    cell_types_dict[cell_types[i]] = condition_dict"
   ]
  },
  {
   "cell_type": "code",
   "execution_count": 11,
   "metadata": {
    "collapsed": false
   },
   "outputs": [
    {
     "name": "stdout",
     "output_type": "stream",
     "text": [
      "[[ 0.11219512  0.12542373  0.05504587  0.10240964  0.109375    0.07777778]\n",
      " [ 0.09146341  0.11666667  0.06896552  0.08695652  0.15337423  0.12837838]\n",
      " [ 0.24444444  0.1875      0.08695652  0.11666667  0.0862069   0.14084507]] \n",
      "\n",
      " [[ 0.10731707  0.05084746  0.10091743  0.05120482  0.109375    0.07777778]\n",
      " [ 0.07926829  0.125       0.11494253  0.11801242  0.08588957  0.10135135]\n",
      " [ 0.24444444  0.1875      0.26086957  0.21666667  0.27586207  0.21126761]] \n",
      "\n",
      " [[ 0.07317073  0.12542373  0.0733945   0.1626506   0.16796875  0.08888889]\n",
      " [ 0.14634146  0.08333333  0.09195402  0.09937888  0.10429448  0.10135135]\n",
      " [ 0.          0.          0.          0.          0.          0.        ]]\n"
     ]
    }
   ],
   "source": [
    "Stomata = (np.asanyarray([cell_types_dict['Stomata'][j][7] for j in conditions]))\n",
    "Stomata_avg = np.ndarray.flatten(np.asanyarray([cell_types_dict['Stomata'][j][8] for j in conditions]))\n",
    "GMC = (np.asanyarray([cell_types_dict['GMC'][j][7] for j in conditions]))\n",
    "GMC_avg = np.ndarray.flatten(np.asanyarray([cell_types_dict['GMC'][j][8] for j in conditions]))\n",
    "PC = (np.asanyarray([cell_types_dict['PC'][j][7] for j in conditions]))\n",
    "PC_avg = np.ndarray.flatten(np.asanyarray([cell_types_dict['PC'][j][8] for j in conditions]))\n",
    "MC = (np.asanyarray([cell_types_dict['MC'][j][7] for j in conditions]))\n",
    "MC_avg = np.ndarray.flatten(np.asanyarray([cell_types_dict['MC'][j][8] for j in conditions]))\n",
    "SLGC = (np.asanyarray([cell_types_dict['SLGC'][j][7] for j in conditions]))\n",
    "SLGC_avg = np.ndarray.flatten(np.asanyarray([cell_types_dict['SLGC'][j][8] for j in conditions]))\n",
    "PC_count = (np.asanyarray([cell_types_dict['PC'][j][7] for j in conditions]))\n",
    "SLGC_count = (np.asanyarray([cell_types_dict['Stomata'][j][7] for j in conditions]))\n",
    "MC_count = (np.asanyarray([cell_types_dict['MC'][j][7] for j in conditions]))\n",
    "\n",
    "print(PC_count,'\\n\\n', SLGC_count,'\\n\\n', MC)"
   ]
  },
  {
   "cell_type": "markdown",
   "metadata": {},
   "source": [
    "## calculating k1(t1 - t0) and k1(t2-t1)\n",
    "\n",
    "- $ {k_1 (t_1 - t_0)} = {\\frac{Stomata(t_1)-Stomata(t_0)}{GMC( t_0)}} $\n"
   ]
  },
  {
   "cell_type": "code",
   "execution_count": 12,
   "metadata": {
    "collapsed": false
   },
   "outputs": [
    {
     "data": {
      "image/png": "[encoded data removed]",
      "text/plain": [
       "<matplotlib.figure.Figure at 0x1173f4940>"
      ]
     },
     "metadata": {},
     "output_type": "display_data"
    }
   ],
   "source": [
    "#step one from sheet\n",
    "\n",
    "t2_t1_k1_avg = (Stomata_avg[2]-Stomata_avg[1])/(GMC_avg[1]) \n",
    "t1_t0_k1_avg = (Stomata_avg[1]-Stomata_avg[0])/(GMC_avg[0])\n",
    "\n",
    "plt.plot([0,1], [t2_t1_k1_avg, t1_t0_k1_avg])\n",
    "t2List = [0,0,0,0,0,0]\n",
    "t1List = [0,0,0,0,0,0]\n",
    "plt.xlim(-0.5, 1.5)\n",
    "plt.title('comparison of k1(t1-t0) to k1(t2-t1)', size = 20)\n",
    "plt.savefig('k1_k0.svg')"
   ]
  },
  {
   "cell_type": "markdown",
   "metadata": {},
   "source": [
    "Calculating the ratio of k0 to k1:"
   ]
  },
  {
   "cell_type": "code",
   "execution_count": 13,
   "metadata": {
    "collapsed": false
   },
   "outputs": [
    {
     "name": "stdout",
     "output_type": "stream",
     "text": [
      "0.177274961306\n"
     ]
    }
   ],
   "source": [
    "t1_t0_k0 = (GMC_avg[1]-GMC_avg[0]+t1_t0_k1_avg*GMC_avg[0])/MC_avg[0]\n",
    "\n",
    "k0_by_k1 = t1_t0_k0/t1_t0_k1_avg\n",
    "\n",
    "print(k0_by_k1)"
   ]
  },
  {
   "cell_type": "markdown",
   "metadata": {},
   "source": [
    "## consistency check on t1-t0\n",
    "\n",
    "- ${k_1 (t_1 - t_0)} = {\\frac{GMC(t_1)-GMC(t_0)+ \\frac{k_0}{k_1}MC(t_0) - GMC(t_0)}{MC( t_0)}} $\n"
   ]
  },
  {
   "cell_type": "code",
   "execution_count": 14,
   "metadata": {
    "collapsed": false
   },
   "outputs": [
    {
     "name": "stdout",
     "output_type": "stream",
     "text": [
      "1.48281507436 2.09679758068\n"
     ]
    },
    {
     "data": {
      "text/plain": [
       "<matplotlib.text.Text at 0x119d44860>"
      ]
     },
     "execution_count": 14,
     "metadata": {},
     "output_type": "execute_result"
    },
    {
     "data": {
      "image/png": "[encoded data removed]",
      "text/plain": [
       "<matplotlib.figure.Figure at 0x1173f4d30>"
      ]
     },
     "metadata": {},
     "output_type": "display_data"
    }
   ],
   "source": [
    "k1_check = (GMC_avg[2]-GMC_avg[1])/(k0_by_k1*MC_avg[1]-GMC_avg[1])\n",
    "print(k1_check, t2_t1_k1_avg)\n",
    "\n",
    "plt.plot([0,1], [t2_t1_k1_avg, k1_check])\n",
    "plt.xlim(-0.5, 1.5)\n",
    "plt.ylim(0,3)\n",
    "plt.title('comparison of k1(t1-t0) from Stomata and GMCs', size = 20)"
   ]
  },
  {
   "cell_type": "markdown",
   "metadata": {},
   "source": [
    "## Calculating k4/ k1 and k5/ k1:\n",
    "\n",
    "- ${PC(t_1)-PC(t_0}) = { k_1 (t_1 - t_0) [\\frac{k_5}{k1} PC(t_0 ) + \\frac{k_4}{k1} SLGC(t_0)]}$\n",
    "- ${PC(t_2)-PC(t_1}) = { k_1 (t_2 - t_1) [\\frac{k_5}{k1} PC(t_1 ) + \\frac{k_4}{k1} SLGC(t_1)]}$"
   ]
  },
  {
   "cell_type": "code",
   "execution_count": 15,
   "metadata": {
    "collapsed": false
   },
   "outputs": [
    {
     "name": "stdout",
     "output_type": "stream",
     "text": [
      "4.98444220359 -0.735772419491\n"
     ]
    }
   ],
   "source": [
    "a = PC_avg[1]-PC_avg[0]\n",
    "e = PC_avg[2]-PC_avg[1]\n",
    "f = np.array([a,e])\n",
    "b = [t1_t0_k1_avg*PC_avg[0], t1_t0_k1_avg*SLGC_avg[0]]\n",
    "c = [t1_t0_k1_avg*PC_avg[1], t1_t0_k1_avg*SLGC_avg[1]]\n",
    "d = np.array([b,c])\n",
    "\n",
    "x = np.linalg.solve(d, f)\n",
    "\n",
    "k5_by_k1 = x[0]\n",
    "k4_by_k1 = x[1]\n",
    "\n",
    "print(k5_by_k1, k4_by_k1)"
   ]
  },
  {
   "cell_type": "markdown",
   "metadata": {},
   "source": [
    "## Calculating k3/ k1 and k6/ k1:\n",
    "\n",
    "- ${SLGC(t_1)-SLGC(t_0)} = { k_1 (t_1 - t_0) [\\frac{k_3}{k1} MC(t_0 ) +\\frac{k_6}{k1} \\frac{k_4}{k1} SLGC(t_0)]}$\n",
    "    \n",
    "- ${SLGC(t_2)-SLGC(t_1)} = { k_1 (t_2 - t_1) [\\frac{k_3}{k1} MC(t_1 ) + \\frac{k_6}{k1} \\frac{k_4}{k1} SLGC(t_1)]}$"
   ]
  },
  {
   "cell_type": "code",
   "execution_count": 16,
   "metadata": {
    "collapsed": false
   },
   "outputs": [
    {
     "name": "stdout",
     "output_type": "stream",
     "text": [
      "-4.37702911214 0.720670569476\n"
     ]
    }
   ],
   "source": [
    "a1 = SLGC_avg[1]-SLGC_avg[0]\n",
    "e1 = SLGC_avg[2]-SLGC_avg[1]\n",
    "f1 = np.array([a1,e1])\n",
    "b1 = [t1_t0_k1_avg*MC_avg[0], t1_t0_k1_avg*k4_by_k1*SLGC_avg[0]]\n",
    "c1 = [t1_t0_k1_avg*MC_avg[1], t2_t1_k1_avg*k4_by_k1*SLGC_avg[1]]\n",
    "d1 = np.array([b,c])\n",
    "\n",
    "x1 = np.linalg.solve(d1, f1)\n",
    "\n",
    "k3_by_k1 = x1[0]\n",
    "k6_by_k1 = x1[1]\n",
    "\n",
    "print(k3_by_k1, k6_by_k1)"
   ]
  },
  {
   "cell_type": "markdown",
   "metadata": {},
   "source": [
    "## Calculating k2/ k1:\n",
    "\n",
    "- ${Mc(t_1)-MC(t_0}) = { k_1 (t_1 - t_0) [\\frac{k_2}{k_1}-(\\frac{k_3}{k_1}+\\frac{k_0}{k_1}) MC(t_0 ) +\\frac{k_6}{k_1} SLGC(t_0)]}$\n",
    "    \n",
    "- ${Mc(t_2)-MC(t_1}) = { k_1 (t_2 - t_1) [\\frac{k_2}{k_1}-(\\frac{k_3}{k_1}+\\frac{k_0}{k_1}) MC(t_1 ) +\\frac{k_6}{k_1} SLGC(t_1)]}$"
   ]
  },
  {
   "cell_type": "code",
   "execution_count": 17,
   "metadata": {
    "collapsed": false
   },
   "outputs": [
    {
     "name": "stdout",
     "output_type": "stream",
     "text": [
      "21.9151599933 19.531151537\n"
     ]
    },
    {
     "data": {
      "text/plain": [
       "<matplotlib.text.Text at 0x119f39dd8>"
      ]
     },
     "execution_count": 17,
     "metadata": {},
     "output_type": "execute_result"
    },
    {
     "data": {
      "image/png": "[encoded data removed]",
      "text/plain": [
       "<matplotlib.figure.Figure at 0x119d2fe48>"
      ]
     },
     "metadata": {},
     "output_type": "display_data"
    }
   ],
   "source": [
    "k2_by_k1_v1 = (k3_by_k1 + k0_by_k1)*MC_avg[0] + k6_by_k1 + SLGC_avg[0] - (t1_t0_k1_avg / (MC_avg[1]-MC_avg[0]))\n",
    "\n",
    "k2_by_k1_v2 = (k3_by_k1 + k0_by_k1)*MC_avg[1] + k6_by_k1 + SLGC_avg[1] - (t2_t1_k1_avg / (MC_avg[2]-MC_avg[1]))\n",
    "\n",
    "print(k2_by_k1_v1, k2_by_k1_v2)\n",
    "\n",
    "plt.plot([0,1], [k2_by_k1_v1, k2_by_k1_v2])\n",
    "plt.xlim(-0.5, 1.5)\n",
    "plt.ylim(0,25)\n",
    "plt.title('comparison of k2/k1 from t1-t0 to k2/k1 from t2-t1', size = 20)"
   ]
  },
  {
   "cell_type": "code",
   "execution_count": 18,
   "metadata": {
    "collapsed": false
   },
   "outputs": [
    {
     "data": {
      "text/html": [
       "<div>\n",
       "<table border=\"1\" class=\"dataframe\">\n",
       "  <thead>\n",
       "    <tr style=\"text-align: right;\">\n",
       "      <th></th>\n",
       "      <th>0</th>\n",
       "    </tr>\n",
       "  </thead>\n",
       "  <tbody>\n",
       "    <tr>\n",
       "      <th>k0/k1</th>\n",
       "      <td>0.177275</td>\n",
       "    </tr>\n",
       "    <tr>\n",
       "      <th>k1(t1-t0)</th>\n",
       "      <td>0.311475</td>\n",
       "    </tr>\n",
       "    <tr>\n",
       "      <th>k2/k1</th>\n",
       "      <td>19.531152</td>\n",
       "    </tr>\n",
       "    <tr>\n",
       "      <th>k3/k1</th>\n",
       "      <td>-4.377029</td>\n",
       "    </tr>\n",
       "    <tr>\n",
       "      <th>k4/k1</th>\n",
       "      <td>-0.735772</td>\n",
       "    </tr>\n",
       "    <tr>\n",
       "      <th>k5/k1</th>\n",
       "      <td>4.984442</td>\n",
       "    </tr>\n",
       "    <tr>\n",
       "      <th>k6/k1</th>\n",
       "      <td>0.720671</td>\n",
       "    </tr>\n",
       "  </tbody>\n",
       "</table>\n",
       "</div>"
      ],
      "text/plain": [
       "                   0\n",
       "k0/k1       0.177275\n",
       "k1(t1-t0)   0.311475\n",
       "k2/k1      19.531152\n",
       "k3/k1      -4.377029\n",
       "k4/k1      -0.735772\n",
       "k5/k1       4.984442\n",
       "k6/k1       0.720671"
      ]
     },
     "execution_count": 18,
     "metadata": {},
     "output_type": "execute_result"
    }
   ],
   "source": [
    "kvalues = [k0_by_k1, t1_t0_k1_avg, k2_by_k1_v2, k3_by_k1, k4_by_k1, k5_by_k1, k6_by_k1]\n",
    "knames = ['k0/k1', 'k1(t1-t0)', 'k2/k1','k3/k1','k4/k1', 'k5/k1', 'k6/k1']\n",
    "df = pd.DataFrame(kvalues, knames)\n",
    "df"
   ]
  }
 ],
 "metadata": {
  "kernelspec": {
   "display_name": "Python 3",
   "language": "python",
   "name": "python3"
  },
  "language_info": {
   "codemirror_mode": {
    "name": "ipython",
    "version": 3
   },
   "file_extension": ".py",
   "mimetype": "text/x-python",
   "name": "python",
   "nbconvert_exporter": "python",
   "pygments_lexer": "ipython3",
   "version": "3.5.5"
  }
 },
 "nbformat": 4,
 "nbformat_minor": 2
}
